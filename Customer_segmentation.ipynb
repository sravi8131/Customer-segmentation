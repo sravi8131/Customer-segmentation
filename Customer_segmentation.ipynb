import pandas as pd
import numpy as np
from sklearn.cluster import KMeans

# Load the customer data
data = pd.read_csv("customer_data.csv")

# Select the features to use for clustering
features = ["age", "income", "spending_score"]

# Normalize the features
data[features] = data[features] / data[features].max()

# Create a KMeans model with 3 clusters
kmeans = KMeans(n_clusters=3)

# Fit the model to the data
kmeans.fit(data[features])

# Predict the cluster labels for each customer
labels = kmeans.predict(data[features])

# Print the cluster labels for the first 10 customers
print(labels[:10])
